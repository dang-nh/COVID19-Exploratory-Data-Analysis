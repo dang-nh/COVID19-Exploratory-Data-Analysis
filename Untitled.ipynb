{
 "cells": [
  {
   "cell_type": "code",
   "execution_count": 4,
   "id": "cca55432",
   "metadata": {},
   "outputs": [],
   "source": [
    "import numpy as np\n",
    "import scipy.stats as stats\n",
    "import pandas as pd\n",
    "import matplotlib.pyplot as plt\n",
    "import seaborn as sns\n",
    "\n",
    "# this line tells jupyter notebook to put the plots in the notebook rather than saving them to file.\n",
    "%matplotlib inline\n",
    "\n",
    "# this line makes plots prettier on mac retina screens. If you don't have one it shouldn't do anything.\n",
    "%config InlineBackend.figure_format = 'retina'"
   ]
  },
  {
   "cell_type": "code",
   "execution_count": 5,
   "id": "d338dbb1",
   "metadata": {},
   "outputs": [],
   "source": [
    "sea_nations = ['Vietnam', 'Indonesia', 'Malaysia', 'Laos',\n",
    "           'Cambodia', 'Thailand', 'Singapore', 'Myanmar',\n",
    "           'Brunei', 'Timor-Leste', 'Timor Leste', 'East Timor']"
   ]
  },
  {
   "cell_type": "code",
   "execution_count": 16,
   "id": "0c56663b",
   "metadata": {},
   "outputs": [
    {
     "name": "stdout",
     "output_type": "stream",
     "text": [
      "       name population_2021 population_2020     area  density\n",
      "15  Vietnam     98,168,833      97,338,579   331,212  296/km²\n",
      "        name population_2021 population_2020       area  density\n",
      "4  Indonesia    276,361,783     273,523,615   1,904,569  145/km²\n",
      "        name population_2021 population_2020     area density\n",
      "45  Malaysia     32,776,194      32,365,999   330,803  99/km²\n",
      "     name population_2021 population_2020     area density\n",
      "105  Laos      7,379,358       7,275,560   236,800  31/km²\n",
      "        name population_2021 population_2020     area density\n",
      "71  Cambodia     16,946,438      16,718,965   181,035  94/km²\n",
      "        name population_2021 population_2020     area  density\n",
      "20  Thailand     69,950,850      69,799,978   513,120  136/km²\n",
      "          name population_2021 population_2020 area    density\n",
      "114  Singapore      5,896,686       5,850,342   710  8,305/km²\n",
      "       name population_2021 population_2020     area density\n",
      "27  Myanmar     54,806,012      54,409,800   676,578  81/km²\n",
      "       name population_2021 population_2020   area density\n",
      "174  Brunei        441,532         437,479   5,765  77/km²\n",
      "Empty DataFrame\n",
      "Columns: [name, population_2021, population_2020, area, density]\n",
      "Index: []\n",
      "            name population_2021 population_2020    area density\n",
      "155  Timor Leste      1,343,873       1,318,445   14,874  90/km²\n",
      "Empty DataFrame\n",
      "Columns: [name, population_2021, population_2020, area, density]\n",
      "Index: []\n"
     ]
    }
   ],
   "source": [
    "pop_df = pd.read_csv('./data/population/population.csv')\n",
    "for nation in sea_nations:\n",
    "    print(pop_df[pop_df['name'] == nation])\n",
    "    "
   ]
  },
  {
   "cell_type": "code",
   "execution_count": null,
   "id": "1360ea53",
   "metadata": {},
   "outputs": [],
   "source": []
  }
 ],
 "metadata": {
  "kernelspec": {
   "display_name": "Python 3 (ipykernel)",
   "language": "python",
   "name": "python3"
  },
  "language_info": {
   "codemirror_mode": {
    "name": "ipython",
    "version": 3
   },
   "file_extension": ".py",
   "mimetype": "text/x-python",
   "name": "python",
   "nbconvert_exporter": "python",
   "pygments_lexer": "ipython3",
   "version": "3.8.12"
  }
 },
 "nbformat": 4,
 "nbformat_minor": 5
}
